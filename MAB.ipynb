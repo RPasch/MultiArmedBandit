{
 "cells": [
  {
   "cell_type": "code",
   "execution_count": 2,
   "metadata": {},
   "outputs": [],
   "source": [
    "import pandas as pd\n",
    "import seaborn as sns\n",
    "import matplotlib.pyplot as plt\n",
    "import numpy as np\n",
    "import sklearn as sk\n",
    "import scipy as sc"
   ]
  },
  {
   "cell_type": "code",
   "execution_count": null,
   "metadata": {},
   "outputs": [],
   "source": [
    "bandit_dists_mean = [-2,-1,0,1,2,3,4,5,8,12,15,20]\n",
    "bandits_dist_std = [0,0.5,1,1.5,2,2.5,3,5,8,10,15,20]\n",
    "norm = [0,1,2,3,1,1,6,10,10]\n",
    "std = [1,1,1,1,3,4,3,4,1,10]\n",
    "class MAB:\n",
    "    \n",
    "    def __init__(self,k,norm,std):\n",
    "        self.qgrid = pd.DataFrame()\n",
    "        self.past = pd.DataFrame()\n",
    "        self.norm = norm\n",
    "        self.std = std\n",
    "        self.k = k\n",
    "        self.bandits = createBandits(k,norm,std)\n",
    "        \n",
    "    def reward(self,bandit_num):\n",
    "        return np.random.normal(norm[bandit_num],std[bandit_num])\n",
    "        \n",
    "    def action(self,e):\n",
    "        \n",
    "    def update(self,):\n",
    "        "
   ]
  }
 ],
 "metadata": {
  "kernelspec": {
   "display_name": "Python 3",
   "language": "python",
   "name": "python3"
  },
  "language_info": {
   "codemirror_mode": {
    "name": "ipython",
    "version": 3
   },
   "file_extension": ".py",
   "mimetype": "text/x-python",
   "name": "python",
   "nbconvert_exporter": "python",
   "pygments_lexer": "ipython3",
   "version": "3.6.4"
  }
 },
 "nbformat": 4,
 "nbformat_minor": 2
}
